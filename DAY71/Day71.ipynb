{
  "nbformat": 4,
  "nbformat_minor": 0,
  "metadata": {
    "colab": {
      "provenance": [],
      "toc_visible": true,
      "authorship_tag": "ABX9TyMpdxqapF2gyQmdnhl41LJ0",
      "include_colab_link": true
    },
    "kernelspec": {
      "name": "python3",
      "display_name": "Python 3"
    },
    "language_info": {
      "name": "python"
    }
  },
  "cells": [
    {
      "cell_type": "markdown",
      "metadata": {
        "id": "view-in-github",
        "colab_type": "text"
      },
      "source": [
        "<a href=\"https://colab.research.google.com/github/nandhini1989/Data_Analysis_Python/blob/main/DAY71/Day71.ipynb\" target=\"_parent\"><img src=\"https://colab.research.google.com/assets/colab-badge.svg\" alt=\"Open In Colab\"/></a>"
      ]
    },
    {
      "cell_type": "code",
      "source": [
        "import pandas as pd\n",
        "df = pd.read_csv(\"salaries_by_college_major.csv\")\n",
        "df.head()\n",
        "df.shape\n",
        "clean_df = df.dropna()\n",
        "clean_df[\"Mid-Career Median Salary\"].max()\n",
        "print(clean_df[\"Mid-Career Median Salary\"].idxmax())\n",
        "#below gives the same result\n",
        "clean_df[\"Undergraduate Major\"].loc[clean_df[\"Mid-Career Median Salary\"].idxmax()]\n",
        "clean_df[\"Undergraduate Major\"].loc[8]\n",
        "\n",
        "\n"
      ],
      "metadata": {
        "id": "0Ic0Nxt_pfBp"
      },
      "execution_count": null,
      "outputs": []
    },
    {
      "cell_type": "code",
      "source": [
        "import pandas as pd\n",
        "df = pd.read_csv(\"salaries_by_college_major.csv\")\n",
        "clean_df = df.dropna()\n",
        "clean_df[\"Starting Median Salary\"].min()\n",
        "clean_df[\"Starting Median Salary\"].idxmin()\n",
        "clean_df.loc[49]\n",
        "clean_df [[\"Undergraduate Major\", \"Starting Median Salary\"]].loc[49]\n",
        "clean_df.loc[clean_df['Mid-Career Median Salary'].idxmax()]"
      ],
      "metadata": {
        "id": "D1Tqr5xA0987"
      },
      "execution_count": null,
      "outputs": []
    },
    {
      "cell_type": "code",
      "source": [
        "spread_col = clean_df['Mid-Career 90th Percentile Salary'] - clean_df['Mid-Career 10th Percentile Salary']\n",
        "# or subtract method\n",
        "clean_df['Mid-Career 90th Percentile Salary'].subtract(clean_df['Mid-Career 10th Percentile Salary'])\n",
        "print(spread_col)\n",
        "clean_df.insert(1,\"Spread\",spread_col)\n",
        "print(clean_df)\n"
      ],
      "metadata": {
        "id": "D-hyZIsq0Vdl"
      },
      "execution_count": null,
      "outputs": []
    },
    {
      "cell_type": "code",
      "source": [
        "low_risk = clean_df.sort_values('Spread')\n",
        "low_risk[['Spread','Undergraduate Major']].head()"
      ],
      "metadata": {
        "id": "Me_k93PeUhEi"
      },
      "execution_count": null,
      "outputs": []
    },
    {
      "cell_type": "code",
      "source": [
        "#Majors with highest potential\n",
        "highest_potential = clean_df.sort_values('Mid-Career 90th Percentile Salary',ascending=False)\n",
        "highest_potential[['Undergraduate Major', 'Mid-Career 90th Percentile Salary']].head()"
      ],
      "metadata": {
        "id": "ltALeM-2WycQ"
      },
      "execution_count": null,
      "outputs": []
    },
    {
      "cell_type": "code",
      "source": [
        "clean_df.groupby('Group').count()\n",
        "clean_df.groupby('Group').mean()"
      ],
      "metadata": {
        "id": "n7K1twsDf11q"
      },
      "execution_count": null,
      "outputs": []
    }
  ]
}